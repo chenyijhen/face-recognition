{
 "cells": [
  {
   "cell_type": "code",
   "execution_count": 17,
   "metadata": {},
   "outputs": [
    {
     "name": "stdout",
     "output_type": "stream",
     "text": [
      "Image with Face Flatten DATA SIZE： (400, 10304)\n",
      "Image with Face Lable SIZA： (400,)\n"
     ]
    }
   ],
   "source": [
    "'''讀取\"是人臉\"pgm影像，並轉換成一維樣本集'''\n",
    "\n",
    "#導入函式庫\n",
    "import cv2\n",
    "import numpy as np\n",
    "import matplotlib.pyplot as plt\n",
    "%matplotlib inline\n",
    "\n",
    "img_face_10304x200 = np.zeros(shape = (1,10304),dtype=int)   #建立要放入PCA的array\n",
    "\n",
    "for folder_face_idx in range(1,41):      #開啟人臉圖片資料夾1~40\n",
    "    for img_face_idx in range(1,11):     #選取開啟各資料夾人臉圖片1~10\n",
    "        img_face = cv2.imread(\"att_faces/s\" + str(folder_face_idx) + \"/\" + str(img_face_idx) + '.pgm')   #讀取圖片\n",
    "        # print(img_face.shape)\n",
    "\n",
    "        img_face = cv2.cvtColor(img_face, cv2.COLOR_BGR2GRAY)      #將圖片轉為灰階\n",
    "        img_face_1D = img_face.flatten()                           #將二維轉成一維\n",
    "        img_face_1D = np.array([img_face_1D])                      #轉成二維，才能用np.append放到二維array裡面\n",
    "        img_face_10304x1 = img_face_1D\n",
    "        #用np.append把一維array逐一放到二維array裡面\n",
    "        img_face_10304x200 =  np.append(img_face_10304x200, img_face_10304x1,axis= 0)\n",
    "        \n",
    "\n",
    "img_face_10304x200 = img_face_10304x200[1:]\n",
    "\n",
    "target_face = np.ones(shape = (img_face_10304x200.shape[0]),dtype=int)   #把\"是人臉\"的標籤存放到標籤的array\n",
    "\n",
    "print(\"Image with Face Flatten DATA SIZE：\" , img_face_10304x200.shape)\n",
    "print(\"Image with Face Lable SIZA：\", target_face.shape)\n",
    "\n",
    "\n"
   ]
  },
  {
   "cell_type": "code",
   "execution_count": 18,
   "metadata": {},
   "outputs": [
    {
     "name": "stdout",
     "output_type": "stream",
     "text": [
      "Image without Face Flatten DATA SIZE： (200, 10304)\n",
      "Image without Face Lable Size： (200,)\n"
     ]
    }
   ],
   "source": [
    "'''讀取\"不是人臉\"pgm影像，並轉換成一維樣本集'''\n",
    "\n",
    "#導入函式庫\n",
    "import cv2\n",
    "import numpy as np\n",
    "import matplotlib.pyplot as plt\n",
    "%matplotlib inline\n",
    "\n",
    "\n",
    "img_unface_10304x200 = np.zeros(shape = (1,10304),dtype=int)   #建立要放入PCA的array\n",
    "\n",
    "for img_unface_idx in range(200):                                            #選取開啟各資料夾人臉圖片1~10\n",
    "    img_unface = cv2.imread(\"data_not_face/\" + str(img_unface_idx) + '.jpg') #讀取圖片\n",
    "    img_unface = cv2.cvtColor(img_unface, cv2.COLOR_BGR2GRAY)                #將圖片轉為灰階\n",
    "\n",
    "    #可裁切的大小要大於要裁切的大小\n",
    "    if (img_unface.shape[0] >= img_face.shape[0]) and (img_unface.shape[1] >= img_face.shape[1]):\n",
    "        \n",
    "        #設定裁切位置對齊圖片中央\n",
    "        ori_pit_Y_of_cutted_unface = ((img_unface.shape[0]//2) - (img_face.shape[0]//2)) \n",
    "        ori_pit_X_of_cutted_unface = ((img_unface.shape[1]//2) - (img_face.shape[1]//2))\n",
    "\n",
    "    #裁切圖片中央的 92*112 大小\n",
    "    img_unface = img_unface[ori_pit_Y_of_cutted_unface:ori_pit_Y_of_cutted_unface+img_face.shape[1] , ori_pit_X_of_cutted_unface : ori_pit_X_of_cutted_unface+img_face.shape[0]]\n",
    "    \n",
    "    img_unface_1D = img_unface.flatten()      #將二維圖片轉換成一維\n",
    "    img_unface_1D = np.array([img_unface_1D]) #轉成二維，才能用np.append放到二維array裡面\n",
    "    img_unface_10304x1 = img_unface_1D\n",
    "    \n",
    "    #用np.append把一維array逐一放到二維array裡面\n",
    "    img_unface_10304x200 =  np.append( img_unface_10304x200, img_unface_10304x1,axis= 0)\n",
    "\n",
    "    \n",
    "img_unface_10304x200 = img_unface_10304x200[1:]\n",
    "\n",
    "target_unface = np.zeros(shape = (img_unface_10304x200.shape[0]),dtype=int)#把\"不是人臉\"的標籤存放到標籤的array\n",
    "\n",
    "\n",
    "print(\"Image without Face Flatten DATA SIZE：\" , img_unface_10304x200.shape)\n",
    "print(\"Image without Face Lable Size：\" , target_unface.shape)\n"
   ]
  },
  {
   "cell_type": "code",
   "execution_count": 3,
   "metadata": {},
   "outputs": [],
   "source": [
    "'''設定貝氏分類器'''\n",
    "from sklearn.naive_bayes import GaussianNB\n",
    "\n",
    "def DO_RECOG(Data_train , Data_test , Target_train , Target_test):\n",
    "\n",
    "    model = GaussianNB()                     #建立Gaussian貝氏分類器模型\n",
    "    model.fit(Data_train , Target_train)     #Training\n",
    "    recog_anwser = model.predict(Data_test)  #Testing\n",
    "\n",
    "    train_score = model.score(Data_train , Target_train)   #Training正確率\n",
    "    test_score = model.score(Data_test , Target_test)      #Testing正確率\n",
    "\n",
    "    print(\"訓練集正確率 = \",  train_score)\n",
    "    print(\"測試集正確率 = \",  test_score)\n",
    "\n",
    "    return recog_anwser , Target_test #回傳\"判定結果\"和\"正確答案集\"\n",
    "\n",
    "\n",
    "\n",
    "\n"
   ]
  },
  {
   "cell_type": "code",
   "execution_count": 4,
   "metadata": {},
   "outputs": [],
   "source": [
    "'''設定混淆矩陣'''\n",
    "\n",
    "from sklearn.metrics import confusion_matrix\n",
    "\n",
    "def DO_Confusi_Matrix(correct_answer , recog_anwser , count_dimeniton):\n",
    "    \n",
    "    if count_dimeniton == 0:  #處裡單個辨識結果\n",
    "        cur_dim_confus_mix = confusion_matrix(correct_answer, recog_anwser)\n",
    "        print(\"----- Dimeniton : X   -----\\n\",cur_dim_confus_mix)\n",
    "    \n",
    "    else:\n",
    "        for cur_dimeniton in range(5):    #處裡多個不同維度辨識結果\n",
    "            cur_dim_confus_mix = confusion_matrix(correct_answer[cur_dimeniton], recog_anwser[cur_dimeniton])\n",
    "            print(\"----- Dimeniton : \"+str(cur_dimeniton+1) +\"   -----\\n\", cur_dim_confus_mix)\n"
   ]
  },
  {
   "cell_type": "code",
   "execution_count": 5,
   "metadata": {},
   "outputs": [],
   "source": [
    "'''設定PCA'''\n",
    "\n",
    "import numpy as np\n",
    "from sklearn.decomposition import PCA\n",
    "\n",
    "def DO_PCA(Data_train , Data_test , set_dim):\n",
    "    pca = PCA(n_components = set_dim)    #PCA降維維度\n",
    "    pca.fit(Data_train)                  #降維train dataset\n",
    "    pca.fit(Data_test)                   #降維test dataset\n",
    "    transf_Data_train = pca.transform(Data_train)   #train dataset降維投影轉換\n",
    "    transf_Data_test = pca.transform(Data_test)     #test dataset降維投影轉換\n",
    "\n",
    "    return transf_Data_train , transf_Data_test  #回傳\"轉換後train dataset\"和\"轉換後test dataset\""
   ]
  },
  {
   "cell_type": "code",
   "execution_count": 6,
   "metadata": {},
   "outputs": [],
   "source": [
    "'''設定LDA'''\n",
    "\n",
    "import numpy as np\n",
    "from sklearn.discriminant_analysis import LinearDiscriminantAnalysis as LDA\n",
    "\n",
    "\n",
    "def DO_LDA(Data_train , Data_test , Label_train , set_dim):\n",
    "    \n",
    "    if set_dim == 0:     #不降維，只轉換\n",
    "        lda = LDA()\n",
    "        lda.fit(Data_train , Label_train)                   #訓練LDA train dataset\n",
    "        transf_Data_train = lda.transform(Data_train)       #train dataset轉換投影\n",
    "        transf_Data_test = lda.transform(Data_test)         #test dataset轉換投影\n",
    "    \n",
    "    else:                #降維，且轉換\n",
    "        lda = LDA(n_components = set_dim)    #設定LDA降維維度\n",
    "        lda.fit(Data_train , Label_train)    #訓練LDA train資料集\n",
    "        transf_Data_train = lda.transform(Data_train)    #train dataset轉換投影\n",
    "        transf_Data_test = lda.transform(Data_test)      #test dataset轉換投影\n",
    "    \n",
    "    return transf_Data_train,transf_Data_test #回傳\"轉換後train dataset\"和\"轉換後test dataset\"\n"
   ]
  },
  {
   "cell_type": "code",
   "execution_count": 20,
   "metadata": {},
   "outputs": [
    {
     "name": "stdout",
     "output_type": "stream",
     "text": [
      "數據Data_train=  (420, 10304)\n",
      "數據Data_test=  (180, 10304)\n",
      "標籤Label_train=  (420,)\n",
      "標籤Label_test=  (180,)\n"
     ]
    }
   ],
   "source": [
    "'''圖片資料與標籤集分組'''\n",
    "\n",
    "from sklearn.model_selection import train_test_split\n",
    "\n",
    "Data =  np.append(img_face_10304x200 , img_unface_10304x200,axis= 0) #合併資料\n",
    "Label = np.append(target_face , target_unface) #合併標籤\n",
    "\n",
    "#分割訓練用的資料集\n",
    "Data_train , Data_test , Label_train , Label_test = train_test_split(Data,Label,test_size = 0.3,stratify = Label) \n",
    "\n",
    "print(\"數據Data_train= \" , Data_train.shape)\n",
    "print(\"數據Data_test= \" , Data_test.shape)\n",
    "print(\"標籤Label_train= \" , Label_train.shape)\n",
    "print(\"標籤Label_test= \" , Label_test.shape)\n",
    "\n"
   ]
  },
  {
   "cell_type": "code",
   "execution_count": 21,
   "metadata": {},
   "outputs": [
    {
     "name": "stdout",
     "output_type": "stream",
     "text": [
      "降維後 Data_train = (420, 10)\n",
      "降維後 Data_test = (180, 10)\n",
      "降維後 Data_train = (420, 20)\n",
      "降維後 Data_test = (180, 20)\n",
      "降維後 Data_train = (420, 30)\n",
      "降維後 Data_test = (180, 30)\n",
      "降維後 Data_train = (420, 40)\n",
      "降維後 Data_test = (180, 40)\n",
      "降維後 Data_train = (420, 50)\n",
      "降維後 Data_test = (180, 50)\n"
     ]
    }
   ],
   "source": [
    "'''用PCA把2個數據集降成5種維度'''\n",
    "\n",
    "Data_train_PCA_all_dim = [] #存放降維後train dataset PCA降維結果\n",
    "Data_test_PCA_all_dim = []  #存放降維後test dataset PCA降維結果\n",
    "\n",
    "for set_PCA_dimeniton in range(1,6):  #做10~50維度的降維\n",
    "\n",
    "    Data_train_PCA , Data_test_PCA = DO_PCA(Data_train , Data_test , set_PCA_dimeniton*10) \n",
    "\n",
    "\n",
    "    print(\"降維後 Data_train =\", Data_train_PCA.shape)\n",
    "    print(\"降維後 Data_test =\", Data_test_PCA.shape)\n",
    "\n",
    "    Data_train_PCA_all_dim.append(Data_train_PCA) #收集降維後train dataset PCA降維結果\n",
    "    Data_test_PCA_all_dim.append(Data_test_PCA)   #收集降維後train dataset PCA降維結果"
   ]
  },
  {
   "cell_type": "code",
   "execution_count": 22,
   "metadata": {},
   "outputs": [
    {
     "name": "stdout",
     "output_type": "stream",
     "text": [
      "訓練集正確率 =  0.9809523809523809\n",
      "測試集正確率 =  0.9666666666666667\n",
      "訓練集正確率 =  0.9761904761904762\n",
      "測試集正確率 =  0.9388888888888889\n",
      "訓練集正確率 =  0.9452380952380952\n",
      "測試集正確率 =  0.9277777777777778\n",
      "訓練集正確率 =  0.9428571428571428\n",
      "測試集正確率 =  0.9333333333333333\n",
      "訓練集正確率 =  0.9452380952380952\n",
      "測試集正確率 =  0.9277777777777778\n"
     ]
    }
   ],
   "source": [
    "'''使用PCA做5個降維資料的貝氏分類器'''\n",
    "\n",
    "PCA_recog_ans = []    #存放經PCA降維辨識結果\n",
    "PCA_correct_ans = []  #存放經PCA降維正確答案\n",
    "for cur_dimeniton in range(5):\n",
    "    \n",
    "    #丟入貝氏分類器做分類判別\n",
    "    cur_dim_recog_anwser , cur_dim_correct_answer = DO_RECOG(Data_train_PCA_all_dim[cur_dimeniton], Data_test_PCA_all_dim[cur_dimeniton], Label_train , Label_test)\n",
    "    \n",
    "    PCA_recog_ans.append(cur_dim_recog_anwser)     #收集經PCA降維辨識結果\n",
    "    PCA_correct_ans.append(cur_dim_correct_answer) #收集經PCA降維正確答案\n"
   ]
  },
  {
   "cell_type": "code",
   "execution_count": 23,
   "metadata": {},
   "outputs": [
    {
     "name": "stdout",
     "output_type": "stream",
     "text": [
      "轉換後Data_train = (420, 1)\n",
      "轉換後Data_test = (180, 1)\n"
     ]
    }
   ],
   "source": [
    "'''做LDA轉換'''\n",
    "\n",
    "Data_train_LDA_all_dim = []  #存放LDA降維後train dataset\n",
    "Data_test_LDA_all_dim = []   #存放LDA降維後test dataset\n",
    "\n",
    "set_LDA_dimeniton = 0\n",
    "\n",
    "#丟進LDA做轉換，得到train dataset LDA轉換和test dataset LDA轉換的結果\n",
    "Data_train_LDA , Data_test_LDA = DO_LDA(Data_train , Data_test , Label_train , set_LDA_dimeniton*10)\n",
    "print(\"轉換後Data_train =\", Data_train_LDA.shape)\n",
    "print(\"轉換後Data_test =\", Data_test_LDA.shape)\n",
    "\n"
   ]
  },
  {
   "cell_type": "code",
   "execution_count": 24,
   "metadata": {},
   "outputs": [
    {
     "name": "stdout",
     "output_type": "stream",
     "text": [
      "訓練集正確率 =  0.9976190476190476\n",
      "測試集正確率 =  0.9\n"
     ]
    }
   ],
   "source": [
    "'''做 LDA 轉換資料的貝斯分類器'''\n",
    "\n",
    "#丟入貝氏分類器做分類判別\n",
    "LDA_recog_ans , LDA_correct_ans = DO_RECOG(Data_train_LDA , Data_test_LDA, Label_train , Label_test)"
   ]
  },
  {
   "cell_type": "code",
   "execution_count": 25,
   "metadata": {},
   "outputs": [
    {
     "name": "stdout",
     "output_type": "stream",
     "text": [
      "PCA 混淆矩陣\n",
      "----- Dimeniton : 1   -----\n",
      " [[ 54   6]\n",
      " [  0 120]]\n",
      "----- Dimeniton : 2   -----\n",
      " [[ 49  11]\n",
      " [  0 120]]\n",
      "----- Dimeniton : 3   -----\n",
      " [[ 47  13]\n",
      " [  0 120]]\n",
      "----- Dimeniton : 4   -----\n",
      " [[ 48  12]\n",
      " [  0 120]]\n",
      "----- Dimeniton : 5   -----\n",
      " [[ 47  13]\n",
      " [  0 120]]\n",
      "LDA 混淆矩陣\n",
      "----- Dimeniton : X   -----\n",
      " [[ 42  18]\n",
      " [  0 120]]\n"
     ]
    }
   ],
   "source": [
    "'''做混淆矩陣'''\n",
    "\n",
    "print(\"PCA 混淆矩陣\")\n",
    "DO_Confusi_Matrix(PCA_correct_ans , PCA_recog_ans , set_PCA_dimeniton)  \n",
    "print(\"LDA 混淆矩陣\")\n",
    "DO_Confusi_Matrix(LDA_correct_ans , LDA_recog_ans , set_LDA_dimeniton)"
   ]
  },
  {
   "cell_type": "code",
   "execution_count": null,
   "metadata": {},
   "outputs": [],
   "source": []
  }
 ],
 "metadata": {
  "interpreter": {
   "hash": "a634af53f0d23b585abe43ad5dfe80ea9091100bed363eea63e6085ff82f4cde"
  },
  "kernelspec": {
   "display_name": "Python 3",
   "language": "python",
   "name": "python3"
  },
  "language_info": {
   "codemirror_mode": {
    "name": "ipython",
    "version": 3
   },
   "file_extension": ".py",
   "mimetype": "text/x-python",
   "name": "python",
   "nbconvert_exporter": "python",
   "pygments_lexer": "ipython3",
   "version": "3.8.5"
  }
 },
 "nbformat": 4,
 "nbformat_minor": 2
}
